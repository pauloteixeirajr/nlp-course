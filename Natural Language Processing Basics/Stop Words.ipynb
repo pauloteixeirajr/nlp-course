{
 "cells": [
  {
   "cell_type": "markdown",
   "metadata": {},
   "source": [
    "### Words like \"a\" and \"the\" appear so frequently that they don't require tagging as thoroughly as nouns, verbs and modifiers.\n",
    "\n",
    "### We call these stop words, and they can be filtered from the text to be processed."
   ]
  },
  {
   "cell_type": "code",
   "execution_count": 1,
   "metadata": {},
   "outputs": [],
   "source": [
    "import spacy"
   ]
  },
  {
   "cell_type": "code",
   "execution_count": 2,
   "metadata": {},
   "outputs": [],
   "source": [
    "nlp = spacy.load('en_core_web_sm')"
   ]
  },
  {
   "cell_type": "code",
   "execution_count": 3,
   "metadata": {},
   "outputs": [
    {
     "name": "stdout",
     "output_type": "stream",
     "text": [
      "{'too', 'any', 'their', 'third', '’m', 'could', \"'ve\", 'namely', 'myself', 'the', 'whither', 'his', \"'re\", 'in', 'whenever', '‘m', 'between', 'whatever', 'call', 'many', 'every', 'must', 'almost', 'were', 'further', 'bottom', 'be', 'what', 'your', 'ourselves', 'perhaps', 'now', 'really', 'from', 'rather', 'each', 'four', 'sixty', 'only', 'elsewhere', 'becomes', 'against', 'so', 'whose', 'therein', 'wherein', 'get', 'more', 'quite', 'somewhere', 'already', 'hence', 'twenty', 'whereafter', 'whereupon', 'see', '‘ve', 'both', 'least', 'anyhow', 'me', '’ll', 'six', 'eight', 'under', 'an', 'does', '’s', 'would', 'first', 'hers', 'twelve', 'i', 'to', 'thereby', 'might', \"'s\", 'before', 'alone', 'my', 'why', 'throughout', 'side', 'for', 'there', 'otherwise', 'meanwhile', 'our', 'that', 'during', 'three', 'even', 'into', 'who', 'has', 'become', 'still', 'everyone', 'herself', 'never', 'or', 'n‘t', 'made', 'not', 'mostly', 'yet', 'via', 'less', 'within', 'where', 'but', 'we', 'indeed', 'a', 'beside', 'seeming', 'being', 'using', 'n’t', 'part', 'anyone', 'just', 'wherever', 'last', 'after', 'are', 'ours', 'former', 'whereas', 'though', 'itself', 'when', 'no', 'its', 'because', 'you', 'five', 'hereby', 'had', 'latter', '‘re', 'other', 'seems', 'since', 'top', 'down', 'few', 'very', 'of', 'please', 'seem', 'something', 'regarding', 'those', 'anyway', 'give', 'anything', 'towards', 'all', 'whence', 'upon', 'across', 'amongst', 'formerly', 'sometimes', 'and', 'here', 'some', 'nevertheless', 'below', 'somehow', 'noone', 'mine', 'thence', 'also', 'same', 'often', 'along', 'will', 'anywhere', 'however', 'on', 'someone', 'these', 'is', 'unless', 'latterly', '‘ll', 'up', 'due', 'either', 'onto', 'then', 'himself', 'afterwards', '’re', '‘s', 'moreover', 'can', 'together', \"'d\", 'herein', 'without', 'becoming', 'serious', 'once', 'thereafter', 'go', 'by', 'move', 'became', 'take', 'empty', 'say', 'hereupon', 'than', 'beyond', 'whoever', 'off', 'much', 'ever', 'did', 'ten', '’ve', 'fifteen', 'him', 'front', 'although', 'with', 'sometime', 'put', 'themselves', 'nor', 'except', 'nine', 'yourself', 'should', 'else', \"n't\", 'at', 'how', 'none', 're', 'around', 'most', 'several', 'yourselves', 'through', 'thus', 'nothing', 'one', 'per', 'everywhere', 'used', 'therefore', 'cannot', 'whole', 'fifty', 'seemed', 'everything', \"'m\", 'well', 'enough', 'forty', 'she', 'always', 'above', 'make', 'until', 'yours', 'among', 'while', '’d', 'nowhere', 'done', 'them', 'besides', 'thru', 'whether', '‘d', 'whom', 'next', 'behind', 'toward', 'which', 'her', 'been', 'again', 'eleven', 'keep', 'do', 'two', 'another', 'it', 'about', 'beforehand', 'doing', 'such', 'name', 'neither', 'have', 'own', 'hereafter', 'show', 'this', 'over', 'thereupon', 'us', 'hundred', 'full', \"'ll\", 'nobody', 'amount', 'was', 'they', 'may', 'others', 'if', 'he', 'out', 'whereby', 'back', 'as', 'various', 'am', 'ca'}\n"
     ]
    }
   ],
   "source": [
    "print(nlp.Defaults.stop_words)"
   ]
  },
  {
   "cell_type": "code",
   "execution_count": 4,
   "metadata": {},
   "outputs": [
    {
     "data": {
      "text/plain": [
       "True"
      ]
     },
     "execution_count": 4,
     "metadata": {},
     "output_type": "execute_result"
    }
   ],
   "source": [
    "nlp.vocab['is'].is_stop"
   ]
  },
  {
   "cell_type": "code",
   "execution_count": 5,
   "metadata": {},
   "outputs": [
    {
     "data": {
      "text/plain": [
       "False"
      ]
     },
     "execution_count": 5,
     "metadata": {},
     "output_type": "execute_result"
    }
   ],
   "source": [
    "nlp.vocab['mistery'].is_stop"
   ]
  },
  {
   "cell_type": "code",
   "execution_count": 6,
   "metadata": {},
   "outputs": [],
   "source": [
    "# adding stop words\n",
    "nlp.Defaults.stop_words.add('btw')"
   ]
  },
  {
   "cell_type": "code",
   "execution_count": 7,
   "metadata": {},
   "outputs": [],
   "source": [
    "nlp.vocab['btw'].is_stop = True"
   ]
  },
  {
   "cell_type": "code",
   "execution_count": 8,
   "metadata": {},
   "outputs": [
    {
     "data": {
      "text/plain": [
       "True"
      ]
     },
     "execution_count": 8,
     "metadata": {},
     "output_type": "execute_result"
    }
   ],
   "source": [
    "nlp.vocab['btw'].is_stop"
   ]
  },
  {
   "cell_type": "code",
   "execution_count": null,
   "metadata": {},
   "outputs": [],
   "source": []
  }
 ],
 "metadata": {
  "kernelspec": {
   "display_name": "Python 3",
   "language": "python",
   "name": "python3"
  },
  "language_info": {
   "codemirror_mode": {
    "name": "ipython",
    "version": 3
   },
   "file_extension": ".py",
   "mimetype": "text/x-python",
   "name": "python",
   "nbconvert_exporter": "python",
   "pygments_lexer": "ipython3",
   "version": "3.7.4"
  }
 },
 "nbformat": 4,
 "nbformat_minor": 2
}
