{
 "cells": [
  {
   "cell_type": "code",
   "execution_count": 1,
   "metadata": {},
   "outputs": [],
   "source": [
    "import numpy as np"
   ]
  },
  {
   "cell_type": "code",
   "execution_count": 2,
   "metadata": {},
   "outputs": [],
   "source": [
    "from sklearn.datasets import load_iris"
   ]
  },
  {
   "cell_type": "code",
   "execution_count": 3,
   "metadata": {},
   "outputs": [],
   "source": [
    "iris = load_iris()"
   ]
  },
  {
   "cell_type": "code",
   "execution_count": 4,
   "metadata": {},
   "outputs": [
    {
     "data": {
      "text/plain": [
       "sklearn.utils.Bunch"
      ]
     },
     "execution_count": 4,
     "metadata": {},
     "output_type": "execute_result"
    }
   ],
   "source": [
    "type(iris)"
   ]
  },
  {
   "cell_type": "code",
   "execution_count": 5,
   "metadata": {},
   "outputs": [
    {
     "name": "stdout",
     "output_type": "stream",
     "text": [
      ".. _iris_dataset:\n",
      "\n",
      "Iris plants dataset\n",
      "--------------------\n",
      "\n",
      "**Data Set Characteristics:**\n",
      "\n",
      "    :Number of Instances: 150 (50 in each of three classes)\n",
      "    :Number of Attributes: 4 numeric, predictive attributes and the class\n",
      "    :Attribute Information:\n",
      "        - sepal length in cm\n",
      "        - sepal width in cm\n",
      "        - petal length in cm\n",
      "        - petal width in cm\n",
      "        - class:\n",
      "                - Iris-Setosa\n",
      "                - Iris-Versicolour\n",
      "                - Iris-Virginica\n",
      "                \n",
      "    :Summary Statistics:\n",
      "\n",
      "    ============== ==== ==== ======= ===== ====================\n",
      "                    Min  Max   Mean    SD   Class Correlation\n",
      "    ============== ==== ==== ======= ===== ====================\n",
      "    sepal length:   4.3  7.9   5.84   0.83    0.7826\n",
      "    sepal width:    2.0  4.4   3.05   0.43   -0.4194\n",
      "    petal length:   1.0  6.9   3.76   1.76    0.9490  (high!)\n",
      "    petal width:    0.1  2.5   1.20   0.76    0.9565  (high!)\n",
      "    ============== ==== ==== ======= ===== ====================\n",
      "\n",
      "    :Missing Attribute Values: None\n",
      "    :Class Distribution: 33.3% for each of 3 classes.\n",
      "    :Creator: R.A. Fisher\n",
      "    :Donor: Michael Marshall (MARSHALL%PLU@io.arc.nasa.gov)\n",
      "    :Date: July, 1988\n",
      "\n",
      "The famous Iris database, first used by Sir R.A. Fisher. The dataset is taken\n",
      "from Fisher's paper. Note that it's the same as in R, but not as in the UCI\n",
      "Machine Learning Repository, which has two wrong data points.\n",
      "\n",
      "This is perhaps the best known database to be found in the\n",
      "pattern recognition literature.  Fisher's paper is a classic in the field and\n",
      "is referenced frequently to this day.  (See Duda & Hart, for example.)  The\n",
      "data set contains 3 classes of 50 instances each, where each class refers to a\n",
      "type of iris plant.  One class is linearly separable from the other 2; the\n",
      "latter are NOT linearly separable from each other.\n",
      "\n",
      ".. topic:: References\n",
      "\n",
      "   - Fisher, R.A. \"The use of multiple measurements in taxonomic problems\"\n",
      "     Annual Eugenics, 7, Part II, 179-188 (1936); also in \"Contributions to\n",
      "     Mathematical Statistics\" (John Wiley, NY, 1950).\n",
      "   - Duda, R.O., & Hart, P.E. (1973) Pattern Classification and Scene Analysis.\n",
      "     (Q327.D83) John Wiley & Sons.  ISBN 0-471-22361-1.  See page 218.\n",
      "   - Dasarathy, B.V. (1980) \"Nosing Around the Neighborhood: A New System\n",
      "     Structure and Classification Rule for Recognition in Partially Exposed\n",
      "     Environments\".  IEEE Transactions on Pattern Analysis and Machine\n",
      "     Intelligence, Vol. PAMI-2, No. 1, 67-71.\n",
      "   - Gates, G.W. (1972) \"The Reduced Nearest Neighbor Rule\".  IEEE Transactions\n",
      "     on Information Theory, May 1972, 431-433.\n",
      "   - See also: 1988 MLC Proceedings, 54-64.  Cheeseman et al\"s AUTOCLASS II\n",
      "     conceptual clustering system finds 3 classes in the data.\n",
      "   - Many, many more ...\n"
     ]
    }
   ],
   "source": [
    "print(iris.DESCR)"
   ]
  },
  {
   "cell_type": "code",
   "execution_count": 6,
   "metadata": {},
   "outputs": [],
   "source": [
    "X = iris.data"
   ]
  },
  {
   "cell_type": "code",
   "execution_count": 7,
   "metadata": {},
   "outputs": [],
   "source": [
    "y = iris.target"
   ]
  },
  {
   "cell_type": "code",
   "execution_count": 8,
   "metadata": {},
   "outputs": [],
   "source": [
    "# class 0 --> [1, 0, 0]\n",
    "# class 1 --> [0, 1, 0]\n",
    "# class 2 --> [0, 0, 1]"
   ]
  },
  {
   "cell_type": "code",
   "execution_count": 10,
   "metadata": {},
   "outputs": [
    {
     "name": "stderr",
     "output_type": "stream",
     "text": [
      "Using TensorFlow backend.\n"
     ]
    }
   ],
   "source": [
    "from keras.utils import to_categorical"
   ]
  },
  {
   "cell_type": "code",
   "execution_count": 11,
   "metadata": {},
   "outputs": [],
   "source": [
    "y = to_categorical(y)"
   ]
  },
  {
   "cell_type": "code",
   "execution_count": 12,
   "metadata": {},
   "outputs": [
    {
     "data": {
      "text/plain": [
       "(150, 3)"
      ]
     },
     "execution_count": 12,
     "metadata": {},
     "output_type": "execute_result"
    }
   ],
   "source": [
    "y.shape"
   ]
  },
  {
   "cell_type": "code",
   "execution_count": 13,
   "metadata": {},
   "outputs": [],
   "source": [
    "from sklearn.model_selection import train_test_split"
   ]
  },
  {
   "cell_type": "code",
   "execution_count": 14,
   "metadata": {},
   "outputs": [],
   "source": [
    "X_train, X_test, y_train, y_test = train_test_split(X, y, test_size=0.33, random_state=42)"
   ]
  },
  {
   "cell_type": "code",
   "execution_count": 15,
   "metadata": {},
   "outputs": [],
   "source": [
    "from sklearn.preprocessing import MinMaxScaler"
   ]
  },
  {
   "cell_type": "code",
   "execution_count": 16,
   "metadata": {},
   "outputs": [],
   "source": [
    "scaler = MinMaxScaler()"
   ]
  },
  {
   "cell_type": "code",
   "execution_count": 17,
   "metadata": {},
   "outputs": [
    {
     "data": {
      "text/plain": [
       "MinMaxScaler(copy=True, feature_range=(0, 1))"
      ]
     },
     "execution_count": 17,
     "metadata": {},
     "output_type": "execute_result"
    }
   ],
   "source": [
    "scaler.fit(X_train)"
   ]
  },
  {
   "cell_type": "code",
   "execution_count": 18,
   "metadata": {},
   "outputs": [],
   "source": [
    "scaled_X_train = scaler.transform(X_train)"
   ]
  },
  {
   "cell_type": "code",
   "execution_count": 19,
   "metadata": {},
   "outputs": [],
   "source": [
    "scaled_X_test = scaler.transform(X_test)"
   ]
  },
  {
   "cell_type": "code",
   "execution_count": 20,
   "metadata": {},
   "outputs": [],
   "source": [
    "from keras.models import Sequential\n",
    "from keras.layers import Dense"
   ]
  },
  {
   "cell_type": "code",
   "execution_count": 24,
   "metadata": {},
   "outputs": [],
   "source": [
    "model = Sequential()\n",
    "model.add(Dense(8, input_dim=4, activation='relu'))\n",
    "model.add(Dense(8, input_dim=4, activation='relu'))\n",
    "model.add(Dense(3, activation='softmax'))\n",
    "model.compile(loss='categorical_crossentropy', optimizer='adam', metrics=['accuracy'])"
   ]
  },
  {
   "cell_type": "code",
   "execution_count": 25,
   "metadata": {},
   "outputs": [
    {
     "name": "stdout",
     "output_type": "stream",
     "text": [
      "Model: \"sequential_2\"\n",
      "_________________________________________________________________\n",
      "Layer (type)                 Output Shape              Param #   \n",
      "=================================================================\n",
      "dense_4 (Dense)              (None, 8)                 40        \n",
      "_________________________________________________________________\n",
      "dense_5 (Dense)              (None, 8)                 72        \n",
      "_________________________________________________________________\n",
      "dense_6 (Dense)              (None, 3)                 27        \n",
      "=================================================================\n",
      "Total params: 139\n",
      "Trainable params: 139\n",
      "Non-trainable params: 0\n",
      "_________________________________________________________________\n"
     ]
    }
   ],
   "source": [
    "model.summary()"
   ]
  },
  {
   "cell_type": "code",
   "execution_count": 26,
   "metadata": {},
   "outputs": [
    {
     "name": "stdout",
     "output_type": "stream",
     "text": [
      "Epoch 1/150\n",
      " - 0s - loss: 1.0782 - accuracy: 0.4300\n",
      "Epoch 2/150\n",
      " - 0s - loss: 1.0717 - accuracy: 0.4600\n",
      "Epoch 3/150\n",
      " - 0s - loss: 1.0649 - accuracy: 0.5100\n",
      "Epoch 4/150\n",
      " - 0s - loss: 1.0579 - accuracy: 0.5800\n",
      "Epoch 5/150\n",
      " - 0s - loss: 1.0508 - accuracy: 0.5900\n",
      "Epoch 6/150\n",
      " - 0s - loss: 1.0451 - accuracy: 0.5600\n",
      "Epoch 7/150\n",
      " - 0s - loss: 1.0392 - accuracy: 0.5500\n",
      "Epoch 8/150\n",
      " - 0s - loss: 1.0342 - accuracy: 0.5400\n",
      "Epoch 9/150\n",
      " - 0s - loss: 1.0298 - accuracy: 0.5100\n",
      "Epoch 10/150\n",
      " - 0s - loss: 1.0254 - accuracy: 0.4900\n",
      "Epoch 11/150\n",
      " - 0s - loss: 1.0210 - accuracy: 0.4200\n",
      "Epoch 12/150\n",
      " - 0s - loss: 1.0163 - accuracy: 0.4200\n",
      "Epoch 13/150\n",
      " - 0s - loss: 1.0115 - accuracy: 0.4200\n",
      "Epoch 14/150\n",
      " - 0s - loss: 1.0065 - accuracy: 0.4400\n",
      "Epoch 15/150\n",
      " - 0s - loss: 1.0014 - accuracy: 0.4800\n",
      "Epoch 16/150\n",
      " - 0s - loss: 0.9962 - accuracy: 0.5000\n",
      "Epoch 17/150\n",
      " - 0s - loss: 0.9910 - accuracy: 0.5500\n",
      "Epoch 18/150\n",
      " - 0s - loss: 0.9859 - accuracy: 0.6100\n",
      "Epoch 19/150\n",
      " - 0s - loss: 0.9804 - accuracy: 0.6100\n",
      "Epoch 20/150\n",
      " - 0s - loss: 0.9751 - accuracy: 0.6000\n",
      "Epoch 21/150\n",
      " - 0s - loss: 0.9697 - accuracy: 0.6100\n",
      "Epoch 22/150\n",
      " - 0s - loss: 0.9641 - accuracy: 0.6200\n",
      "Epoch 23/150\n",
      " - 0s - loss: 0.9586 - accuracy: 0.6300\n",
      "Epoch 24/150\n",
      " - 0s - loss: 0.9530 - accuracy: 0.6200\n",
      "Epoch 25/150\n",
      " - 0s - loss: 0.9473 - accuracy: 0.6200\n",
      "Epoch 26/150\n",
      " - 0s - loss: 0.9415 - accuracy: 0.6300\n",
      "Epoch 27/150\n",
      " - 0s - loss: 0.9358 - accuracy: 0.6400\n",
      "Epoch 28/150\n",
      " - 0s - loss: 0.9292 - accuracy: 0.6400\n",
      "Epoch 29/150\n",
      " - 0s - loss: 0.9230 - accuracy: 0.6400\n",
      "Epoch 30/150\n",
      " - 0s - loss: 0.9168 - accuracy: 0.6400\n",
      "Epoch 31/150\n",
      " - 0s - loss: 0.9105 - accuracy: 0.6400\n",
      "Epoch 32/150\n",
      " - 0s - loss: 0.9040 - accuracy: 0.6400\n",
      "Epoch 33/150\n",
      " - 0s - loss: 0.8980 - accuracy: 0.6500\n",
      "Epoch 34/150\n",
      " - 0s - loss: 0.8914 - accuracy: 0.6500\n",
      "Epoch 35/150\n",
      " - 0s - loss: 0.8851 - accuracy: 0.6500\n",
      "Epoch 36/150\n",
      " - 0s - loss: 0.8785 - accuracy: 0.6500\n",
      "Epoch 37/150\n",
      " - 0s - loss: 0.8717 - accuracy: 0.6500\n",
      "Epoch 38/150\n",
      " - 0s - loss: 0.8647 - accuracy: 0.6500\n",
      "Epoch 39/150\n",
      " - 0s - loss: 0.8577 - accuracy: 0.6500\n",
      "Epoch 40/150\n",
      " - 0s - loss: 0.8501 - accuracy: 0.6500\n",
      "Epoch 41/150\n",
      " - 0s - loss: 0.8435 - accuracy: 0.6500\n",
      "Epoch 42/150\n",
      " - 0s - loss: 0.8372 - accuracy: 0.6500\n",
      "Epoch 43/150\n",
      " - 0s - loss: 0.8304 - accuracy: 0.6500\n",
      "Epoch 44/150\n",
      " - 0s - loss: 0.8239 - accuracy: 0.6500\n",
      "Epoch 45/150\n",
      " - 0s - loss: 0.8174 - accuracy: 0.6500\n",
      "Epoch 46/150\n",
      " - 0s - loss: 0.8104 - accuracy: 0.6500\n",
      "Epoch 47/150\n",
      " - 0s - loss: 0.8036 - accuracy: 0.6500\n",
      "Epoch 48/150\n",
      " - 0s - loss: 0.7972 - accuracy: 0.6500\n",
      "Epoch 49/150\n",
      " - 0s - loss: 0.7905 - accuracy: 0.6500\n",
      "Epoch 50/150\n",
      " - 0s - loss: 0.7843 - accuracy: 0.6500\n",
      "Epoch 51/150\n",
      " - 0s - loss: 0.7782 - accuracy: 0.6500\n",
      "Epoch 52/150\n",
      " - 0s - loss: 0.7714 - accuracy: 0.6500\n",
      "Epoch 53/150\n",
      " - 0s - loss: 0.7642 - accuracy: 0.6500\n",
      "Epoch 54/150\n",
      " - 0s - loss: 0.7570 - accuracy: 0.6500\n",
      "Epoch 55/150\n",
      " - 0s - loss: 0.7497 - accuracy: 0.6500\n",
      "Epoch 56/150\n",
      " - 0s - loss: 0.7430 - accuracy: 0.6500\n",
      "Epoch 57/150\n",
      " - 0s - loss: 0.7363 - accuracy: 0.6500\n",
      "Epoch 58/150\n",
      " - 0s - loss: 0.7300 - accuracy: 0.6500\n",
      "Epoch 59/150\n",
      " - 0s - loss: 0.7230 - accuracy: 0.6500\n",
      "Epoch 60/150\n",
      " - 0s - loss: 0.7172 - accuracy: 0.6500\n",
      "Epoch 61/150\n",
      " - 0s - loss: 0.7104 - accuracy: 0.6500\n",
      "Epoch 62/150\n",
      " - 0s - loss: 0.7044 - accuracy: 0.6500\n",
      "Epoch 63/150\n",
      " - 0s - loss: 0.6987 - accuracy: 0.6500\n",
      "Epoch 64/150\n",
      " - 0s - loss: 0.6930 - accuracy: 0.6500\n",
      "Epoch 65/150\n",
      " - 0s - loss: 0.6870 - accuracy: 0.6500\n",
      "Epoch 66/150\n",
      " - 0s - loss: 0.6809 - accuracy: 0.6500\n",
      "Epoch 67/150\n",
      " - 0s - loss: 0.6748 - accuracy: 0.6500\n",
      "Epoch 68/150\n",
      " - 0s - loss: 0.6689 - accuracy: 0.6500\n",
      "Epoch 69/150\n",
      " - 0s - loss: 0.6627 - accuracy: 0.6500\n",
      "Epoch 70/150\n",
      " - 0s - loss: 0.6559 - accuracy: 0.6500\n",
      "Epoch 71/150\n",
      " - 0s - loss: 0.6495 - accuracy: 0.6500\n",
      "Epoch 72/150\n",
      " - 0s - loss: 0.6434 - accuracy: 0.6800\n",
      "Epoch 73/150\n",
      " - 0s - loss: 0.6373 - accuracy: 0.6800\n",
      "Epoch 74/150\n",
      " - 0s - loss: 0.6312 - accuracy: 0.6800\n",
      "Epoch 75/150\n",
      " - 0s - loss: 0.6248 - accuracy: 0.6900\n",
      "Epoch 76/150\n",
      " - 0s - loss: 0.6186 - accuracy: 0.7000\n",
      "Epoch 77/150\n",
      " - 0s - loss: 0.6124 - accuracy: 0.7000\n",
      "Epoch 78/150\n",
      " - 0s - loss: 0.6073 - accuracy: 0.7000\n",
      "Epoch 79/150\n",
      " - 0s - loss: 0.6012 - accuracy: 0.7000\n",
      "Epoch 80/150\n",
      " - 0s - loss: 0.5954 - accuracy: 0.7000\n",
      "Epoch 81/150\n",
      " - 0s - loss: 0.5899 - accuracy: 0.7000\n",
      "Epoch 82/150\n",
      " - 0s - loss: 0.5835 - accuracy: 0.7000\n",
      "Epoch 83/150\n",
      " - 0s - loss: 0.5781 - accuracy: 0.7100\n",
      "Epoch 84/150\n",
      " - 0s - loss: 0.5729 - accuracy: 0.7400\n",
      "Epoch 85/150\n",
      " - 0s - loss: 0.5673 - accuracy: 0.7400\n",
      "Epoch 86/150\n",
      " - 0s - loss: 0.5620 - accuracy: 0.7600\n",
      "Epoch 87/150\n",
      " - 0s - loss: 0.5566 - accuracy: 0.7900\n",
      "Epoch 88/150\n",
      " - 0s - loss: 0.5514 - accuracy: 0.7900\n",
      "Epoch 89/150\n",
      " - 0s - loss: 0.5468 - accuracy: 0.8400\n",
      "Epoch 90/150\n",
      " - 0s - loss: 0.5415 - accuracy: 0.8800\n",
      "Epoch 91/150\n",
      " - 0s - loss: 0.5361 - accuracy: 0.8800\n",
      "Epoch 92/150\n",
      " - 0s - loss: 0.5308 - accuracy: 0.8800\n",
      "Epoch 93/150\n",
      " - 0s - loss: 0.5256 - accuracy: 0.8700\n",
      "Epoch 94/150\n",
      " - 0s - loss: 0.5217 - accuracy: 0.8000\n",
      "Epoch 95/150\n",
      " - 0s - loss: 0.5161 - accuracy: 0.7900\n",
      "Epoch 96/150\n",
      " - 0s - loss: 0.5113 - accuracy: 0.8000\n",
      "Epoch 97/150\n",
      " - 0s - loss: 0.5066 - accuracy: 0.8200\n",
      "Epoch 98/150\n",
      " - 0s - loss: 0.5014 - accuracy: 0.8500\n",
      "Epoch 99/150\n",
      " - 0s - loss: 0.4969 - accuracy: 0.8500\n",
      "Epoch 100/150\n",
      " - 0s - loss: 0.4926 - accuracy: 0.8200\n",
      "Epoch 101/150\n",
      " - 0s - loss: 0.4882 - accuracy: 0.8100\n",
      "Epoch 102/150\n",
      " - 0s - loss: 0.4833 - accuracy: 0.8600\n",
      "Epoch 103/150\n",
      " - 0s - loss: 0.4784 - accuracy: 0.8900\n",
      "Epoch 104/150\n",
      " - 0s - loss: 0.4736 - accuracy: 0.9100\n",
      "Epoch 105/150\n",
      " - 0s - loss: 0.4693 - accuracy: 0.9200\n",
      "Epoch 106/150\n",
      " - 0s - loss: 0.4646 - accuracy: 0.9200\n",
      "Epoch 107/150\n",
      " - 0s - loss: 0.4610 - accuracy: 0.9300\n",
      "Epoch 108/150\n",
      " - 0s - loss: 0.4572 - accuracy: 0.9500\n",
      "Epoch 109/150\n",
      " - 0s - loss: 0.4558 - accuracy: 0.9600\n",
      "Epoch 110/150\n",
      " - 0s - loss: 0.4524 - accuracy: 0.9600\n",
      "Epoch 111/150\n",
      " - 0s - loss: 0.4470 - accuracy: 0.9600\n",
      "Epoch 112/150\n",
      " - 0s - loss: 0.4414 - accuracy: 0.9600\n",
      "Epoch 113/150\n",
      " - 0s - loss: 0.4353 - accuracy: 0.9500\n",
      "Epoch 114/150\n",
      " - 0s - loss: 0.4311 - accuracy: 0.9400\n",
      "Epoch 115/150\n",
      " - 0s - loss: 0.4271 - accuracy: 0.9500\n",
      "Epoch 116/150\n",
      " - 0s - loss: 0.4227 - accuracy: 0.9500\n",
      "Epoch 117/150\n",
      " - 0s - loss: 0.4190 - accuracy: 0.9500\n",
      "Epoch 118/150\n",
      " - 0s - loss: 0.4158 - accuracy: 0.9500\n",
      "Epoch 119/150\n",
      " - 0s - loss: 0.4125 - accuracy: 0.9500\n",
      "Epoch 120/150\n",
      " - 0s - loss: 0.4088 - accuracy: 0.9500\n",
      "Epoch 121/150\n",
      " - 0s - loss: 0.4048 - accuracy: 0.9500\n",
      "Epoch 122/150\n",
      " - 0s - loss: 0.4008 - accuracy: 0.9500\n",
      "Epoch 123/150\n",
      " - 0s - loss: 0.3971 - accuracy: 0.9500\n",
      "Epoch 124/150\n",
      " - 0s - loss: 0.3935 - accuracy: 0.9500\n",
      "Epoch 125/150\n",
      " - 0s - loss: 0.3900 - accuracy: 0.9500\n",
      "Epoch 126/150\n",
      " - 0s - loss: 0.3868 - accuracy: 0.9500\n",
      "Epoch 127/150\n",
      " - 0s - loss: 0.3830 - accuracy: 0.9500\n",
      "Epoch 128/150\n",
      " - 0s - loss: 0.3796 - accuracy: 0.9500\n",
      "Epoch 129/150\n",
      " - 0s - loss: 0.3766 - accuracy: 0.9400\n",
      "Epoch 130/150\n",
      " - 0s - loss: 0.3743 - accuracy: 0.9300\n",
      "Epoch 131/150\n",
      " - 0s - loss: 0.3720 - accuracy: 0.9200\n",
      "Epoch 132/150\n",
      " - 0s - loss: 0.3689 - accuracy: 0.9200\n",
      "Epoch 133/150\n",
      " - 0s - loss: 0.3654 - accuracy: 0.9400\n",
      "Epoch 134/150\n",
      " - 0s - loss: 0.3608 - accuracy: 0.9500\n",
      "Epoch 135/150\n",
      " - 0s - loss: 0.3576 - accuracy: 0.9500\n",
      "Epoch 136/150\n",
      " - 0s - loss: 0.3545 - accuracy: 0.9500\n",
      "Epoch 137/150\n",
      " - 0s - loss: 0.3517 - accuracy: 0.9500\n",
      "Epoch 138/150\n",
      " - 0s - loss: 0.3484 - accuracy: 0.9600\n",
      "Epoch 139/150\n",
      " - 0s - loss: 0.3455 - accuracy: 0.9500\n",
      "Epoch 140/150\n",
      " - 0s - loss: 0.3426 - accuracy: 0.9500\n",
      "Epoch 141/150\n",
      " - 0s - loss: 0.3400 - accuracy: 0.9500\n",
      "Epoch 142/150\n",
      " - 0s - loss: 0.3367 - accuracy: 0.9500\n",
      "Epoch 143/150\n",
      " - 0s - loss: 0.3333 - accuracy: 0.9500\n",
      "Epoch 144/150\n",
      " - 0s - loss: 0.3304 - accuracy: 0.9500\n",
      "Epoch 145/150\n",
      " - 0s - loss: 0.3277 - accuracy: 0.9500\n",
      "Epoch 146/150\n",
      " - 0s - loss: 0.3247 - accuracy: 0.9500\n",
      "Epoch 147/150\n",
      " - 0s - loss: 0.3220 - accuracy: 0.9500\n",
      "Epoch 148/150\n",
      " - 0s - loss: 0.3187 - accuracy: 0.9600\n",
      "Epoch 149/150\n",
      " - 0s - loss: 0.3167 - accuracy: 0.9600\n",
      "Epoch 150/150\n",
      " - 0s - loss: 0.3157 - accuracy: 0.9500\n"
     ]
    },
    {
     "data": {
      "text/plain": [
       "<keras.callbacks.callbacks.History at 0x7fb899c0bcd0>"
      ]
     },
     "execution_count": 26,
     "metadata": {},
     "output_type": "execute_result"
    }
   ],
   "source": [
    "model.fit(scaled_X_train, y_train, epochs=150, verbose=2)"
   ]
  },
  {
   "cell_type": "code",
   "execution_count": null,
   "metadata": {},
   "outputs": [],
   "source": []
  }
 ],
 "metadata": {
  "kernelspec": {
   "display_name": "Python 3",
   "language": "python",
   "name": "python3"
  },
  "language_info": {
   "codemirror_mode": {
    "name": "ipython",
    "version": 3
   },
   "file_extension": ".py",
   "mimetype": "text/x-python",
   "name": "python",
   "nbconvert_exporter": "python",
   "pygments_lexer": "ipython3",
   "version": "3.7.4"
  }
 },
 "nbformat": 4,
 "nbformat_minor": 2
}
